{
  "cells": [
    {
      "cell_type": "markdown",
      "source": [
        "Sure. Here is the Python code to import the data and do EDA on the dataset in Google Colab:"
      ],
      "metadata": {
        "id": "PMyPeLWbBkJQ"
      }
    },
    {
      "cell_type": "code",
      "source": [
        "# Importing the necessary python libraries (data wrangling and visualisation)\n",
        "import pandas as pd\n",
        "import matplotlib.pyplot as plt\n",
        "import seaborn as sns\n",
        "\n",
        "# Importing the dataset\n",
        "df = pd.read_csv('/content/sample_data/Electric_Vehicle_Population_Data.csv')\n",
        "\n",
        "# Get some summary statistics of the dataset\n",
        "print(df.describe())\n",
        "\n",
        "# Print the first few rows of the dataset\n",
        "# print(df.head())\n",
        "# Print the last few rows of the dataset\n",
        "# print(df.tail())\n",
        "\n",
        "\n"
      ],
      "outputs": [
        {
          "output_type": "stream",
          "name": "stdout",
          "text": [
            "         Postal Code     Model Year  Electric Range      Base MSRP  \\\n",
            "count  111050.000000  111053.000000   111053.000000  111053.000000   \n",
            "mean    98170.811229    2019.770335       72.457628    1400.110578   \n",
            "std      2395.351871       3.011399       97.887632    9580.575729   \n",
            "min      1730.000000    1998.000000        0.000000       0.000000   \n",
            "25%     98052.000000    2018.000000        0.000000       0.000000   \n",
            "50%     98119.000000    2021.000000       21.000000       0.000000   \n",
            "75%     98368.000000    2022.000000      149.000000       0.000000   \n",
            "max     99701.000000    2024.000000      337.000000  845000.000000   \n",
            "\n",
            "       Legislative District  DOL Vehicle ID  2020 Census Tract  \n",
            "count         110804.000000    1.110530e+05       1.110500e+05  \n",
            "mean              29.556271    2.077656e+08       5.297288e+10  \n",
            "std               14.785773    8.468117e+07       1.623414e+09  \n",
            "min                1.000000    4.385000e+03       1.081042e+09  \n",
            "25%               18.000000    1.635230e+08       5.303301e+10  \n",
            "50%               34.000000    2.085645e+08       5.303303e+10  \n",
            "75%               43.000000    2.339382e+08       5.305307e+10  \n",
            "max               49.000000    4.791150e+08       5.602100e+10  \n"
          ]
        }
      ],
      "execution_count": 5,
      "metadata": {
        "colab": {
          "base_uri": "https://localhost:8080/"
        },
        "id": "g_CDyVM7BkJZ",
        "outputId": "ad3e6a3a-2774-4e7b-fac6-a521d0fcc2f0"
      }
    },
    {
      "cell_type": "code",
      "source": [
        "\n",
        "# Ploting a histogram of the range(miles) of the EV on a single charge\n",
        "plt.hist(df['Electric Range'])\n",
        "plt.show()\n",
        "\n",
        "# Plot a scatter plot of the base MSRP vs. the electric range\n",
        "plt.scatter(df['Base MSRP'], df['Electric Range'])\n",
        "plt.show()\n",
        "\n",
        "# Create a correlation matrix of the dataset\n",
        "correlation_matrix = df.corr()\n",
        "print(correlation_matrix)\n",
        "\n",
        "# Select the features that are most correlated with the electric range\n",
        "correlated_features = correlation_matrix['Electric Range'].sort_values(ascending=False)\n",
        "print(correlated_features[1:])\n",
        "\n",
        "# Perform further EDA on the selected features"
      ],
      "metadata": {
        "id": "Cj3P2bqPC0MK"
      },
      "execution_count": null,
      "outputs": []
    },
    {
      "cell_type": "markdown",
      "source": [
        "This code will first import the necessary libraries, then import the dataset from a CSV file. It will then print the first few rows of the dataset, get some summary statistics, plot a histogram of the electric range, and plot a scatter plot of the base MSRP vs. the electric range. It will also create a correlation matrix of the dataset and print the features that are most correlated with the electric range. Finally, it will perform further EDA on the selected features.\n",
        "\n",
        "To run this code, you will need to create a Google Colab notebook and paste the code into the notebook. You will also need to upload the CSV file to your Google Drive. Once you have done this, you can run the code by clicking on the \"Run\" button."
      ],
      "metadata": {
        "id": "2mpHqvBtBkJd"
      }
    }
  ],
  "metadata": {
    "colab": {
      "provenance": []
    },
    "kernelspec": {
      "display_name": "Python 3",
      "name": "python3"
    }
  },
  "nbformat": 4,
  "nbformat_minor": 0
}